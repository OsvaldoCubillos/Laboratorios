{
 "cells": [
  {
   "cell_type": "markdown",
   "id": "44405c4a",
   "metadata": {
    "hide_input": true
   },
   "source": [
    "# Laboratorio 2\n",
    "El presente documento tiene la finalidad de generar un manual práctico que permita comprender y ejecutar diversos comandos en Python en relación a ciertas inquietudes solicitadas.\n",
    "El documento tiene 5 ejercicios prácticos de tratamiento de una base de datos como limpieza y creación de funciones.\n",
    "\n",
    "## Ejercicio N°1\n",
    "Generar una función y utilizar esta para recodificar la variable `país de origen` (1, 2, 3) en el dataframe a través de la función apply. Usar fichero **<p style=\"color: blue;\">autos.csv</p>**\n",
    "\n",
    "### Solución\n",
    "Primero se comienza a subir la base de datos generando con ello un DataFrame:"
   ]
  },
  {
   "cell_type": "code",
   "execution_count": 469,
   "id": "69e93676",
   "metadata": {
    "scrolled": true
   },
   "outputs": [
    {
     "data": {
      "text/html": [
       "<div>\n",
       "<style scoped>\n",
       "    .dataframe tbody tr th:only-of-type {\n",
       "        vertical-align: middle;\n",
       "    }\n",
       "\n",
       "    .dataframe tbody tr th {\n",
       "        vertical-align: top;\n",
       "    }\n",
       "\n",
       "    .dataframe thead th {\n",
       "        text-align: right;\n",
       "    }\n",
       "</style>\n",
       "<table border=\"1\" class=\"dataframe\">\n",
       "  <thead>\n",
       "    <tr style=\"text-align: right;\">\n",
       "      <th></th>\n",
       "      <th>Millas_Por_Galon</th>\n",
       "      <th>Cilindros</th>\n",
       "      <th>Pais_Origen</th>\n",
       "      <th>Peso_En_Libras</th>\n",
       "      <th>Desplazamiento</th>\n",
       "      <th>Aceleracion</th>\n",
       "      <th>Nombre</th>\n",
       "      <th>Anyo</th>\n",
       "      <th>Caballo_De_Fuerza</th>\n",
       "    </tr>\n",
       "  </thead>\n",
       "  <tbody>\n",
       "    <tr>\n",
       "      <th>0</th>\n",
       "      <td>18.0</td>\n",
       "      <td>8</td>\n",
       "      <td>USA</td>\n",
       "      <td>3504</td>\n",
       "      <td>307.0</td>\n",
       "      <td>12.0</td>\n",
       "      <td>chevrolet chevelle malibu</td>\n",
       "      <td>1/01/1970</td>\n",
       "      <td>130.0</td>\n",
       "    </tr>\n",
       "    <tr>\n",
       "      <th>1</th>\n",
       "      <td>15.0</td>\n",
       "      <td>8</td>\n",
       "      <td>USA</td>\n",
       "      <td>3693</td>\n",
       "      <td>350.0</td>\n",
       "      <td>11.5</td>\n",
       "      <td>buick skylark 320</td>\n",
       "      <td>1/01/1970</td>\n",
       "      <td>165.0</td>\n",
       "    </tr>\n",
       "    <tr>\n",
       "      <th>2</th>\n",
       "      <td>18.0</td>\n",
       "      <td>8</td>\n",
       "      <td>USA</td>\n",
       "      <td>3436</td>\n",
       "      <td>318.0</td>\n",
       "      <td>11.0</td>\n",
       "      <td>plymouth satellite</td>\n",
       "      <td>1/01/1970</td>\n",
       "      <td>150.0</td>\n",
       "    </tr>\n",
       "  </tbody>\n",
       "</table>\n",
       "</div>"
      ],
      "text/plain": [
       "   Millas_Por_Galon  Cilindros Pais_Origen  Peso_En_Libras  Desplazamiento  \\\n",
       "0              18.0          8         USA            3504           307.0   \n",
       "1              15.0          8         USA            3693           350.0   \n",
       "2              18.0          8         USA            3436           318.0   \n",
       "\n",
       "   Aceleracion                     Nombre       Anyo  Caballo_De_Fuerza  \n",
       "0         12.0  chevrolet chevelle malibu  1/01/1970              130.0  \n",
       "1         11.5          buick skylark 320  1/01/1970              165.0  \n",
       "2         11.0         plymouth satellite  1/01/1970              150.0  "
      ]
     },
     "execution_count": 469,
     "metadata": {},
     "output_type": "execute_result"
    }
   ],
   "source": [
    "# Importanto librerías\n",
    "import pandas as pd \n",
    "import numpy as np\n",
    "\n",
    "# Importando archivos\n",
    "autos = open('C:/Users/osval/Documents/_INACAP/_Capacitaciones/Curso_R_inacap/_Ciencia de Datos/Python in Data Science/Tareas/Proyecto 2/autos.csv')\n",
    "autos = pd.read_csv(autos, delimiter = \";\")\n",
    "\n",
    "\n",
    "#Visualizando la data\n",
    "autos.head(3)\n"
   ]
  },
  {
   "cell_type": "markdown",
   "id": "f45c54b0",
   "metadata": {},
   "source": [
    "Primero se comenzará a hacer un análisis exploratorio de la columna `Pais_Origen` para der la cantidad de paises existentes. Para lo anterior se utilizará la función de agrupación para poder vizualizar los elementos contenidos."
   ]
  },
  {
   "cell_type": "code",
   "execution_count": 470,
   "id": "e4067cb9",
   "metadata": {},
   "outputs": [
    {
     "data": {
      "text/html": [
       "<div>\n",
       "<style scoped>\n",
       "    .dataframe tbody tr th:only-of-type {\n",
       "        vertical-align: middle;\n",
       "    }\n",
       "\n",
       "    .dataframe tbody tr th {\n",
       "        vertical-align: top;\n",
       "    }\n",
       "\n",
       "    .dataframe thead th {\n",
       "        text-align: right;\n",
       "    }\n",
       "</style>\n",
       "<table border=\"1\" class=\"dataframe\">\n",
       "  <thead>\n",
       "    <tr style=\"text-align: right;\">\n",
       "      <th></th>\n",
       "      <th>Millas_Por_Galon</th>\n",
       "      <th>Cilindros</th>\n",
       "      <th>Peso_En_Libras</th>\n",
       "      <th>Desplazamiento</th>\n",
       "      <th>Aceleracion</th>\n",
       "      <th>Nombre</th>\n",
       "      <th>Anyo</th>\n",
       "      <th>Caballo_De_Fuerza</th>\n",
       "    </tr>\n",
       "    <tr>\n",
       "      <th>Pais_Origen</th>\n",
       "      <th></th>\n",
       "      <th></th>\n",
       "      <th></th>\n",
       "      <th></th>\n",
       "      <th></th>\n",
       "      <th></th>\n",
       "      <th></th>\n",
       "      <th></th>\n",
       "    </tr>\n",
       "  </thead>\n",
       "  <tbody>\n",
       "    <tr>\n",
       "      <th>Europe</th>\n",
       "      <td>70</td>\n",
       "      <td>73</td>\n",
       "      <td>73</td>\n",
       "      <td>73</td>\n",
       "      <td>73</td>\n",
       "      <td>73</td>\n",
       "      <td>73</td>\n",
       "      <td>71</td>\n",
       "    </tr>\n",
       "    <tr>\n",
       "      <th>Japan</th>\n",
       "      <td>79</td>\n",
       "      <td>79</td>\n",
       "      <td>79</td>\n",
       "      <td>79</td>\n",
       "      <td>79</td>\n",
       "      <td>79</td>\n",
       "      <td>79</td>\n",
       "      <td>79</td>\n",
       "    </tr>\n",
       "    <tr>\n",
       "      <th>USA</th>\n",
       "      <td>249</td>\n",
       "      <td>254</td>\n",
       "      <td>254</td>\n",
       "      <td>254</td>\n",
       "      <td>254</td>\n",
       "      <td>254</td>\n",
       "      <td>254</td>\n",
       "      <td>250</td>\n",
       "    </tr>\n",
       "  </tbody>\n",
       "</table>\n",
       "</div>"
      ],
      "text/plain": [
       "             Millas_Por_Galon  Cilindros  Peso_En_Libras  Desplazamiento  \\\n",
       "Pais_Origen                                                                \n",
       "Europe                     70         73              73              73   \n",
       "Japan                      79         79              79              79   \n",
       "USA                       249        254             254             254   \n",
       "\n",
       "             Aceleracion  Nombre  Anyo  Caballo_De_Fuerza  \n",
       "Pais_Origen                                                \n",
       "Europe                73      73    73                 71  \n",
       "Japan                 79      79    79                 79  \n",
       "USA                  254     254   254                250  "
      ]
     },
     "execution_count": 470,
     "metadata": {},
     "output_type": "execute_result"
    }
   ],
   "source": [
    "grupo = autos.groupby('Pais_Origen').count()\n",
    "grupo"
   ]
  },
  {
   "cell_type": "markdown",
   "id": "16185755",
   "metadata": {},
   "source": [
    "Como resultado de lo anterior, es posible distinguir 3 paises. Por ello es que la codificación quedará como:  \n",
    "1. Europe  \n",
    "2. Japan  \n",
    "3. USA  "
   ]
  },
  {
   "cell_type": "code",
   "execution_count": 471,
   "id": "11d67b79",
   "metadata": {},
   "outputs": [],
   "source": [
    "#Generando función para recodificar los campos\n",
    "def Cambiar_Pais (x):\n",
    "    '''\n",
    "    Función que permite reemplazar los valores de la columna Pais_Origen por los 1 (Europe), 2 (Japan) o 3 (USA)\n",
    "    Parámetros de entrada:\n",
    "    DataFrame\n",
    "    '''\n",
    "    if x == \"Europe\":\n",
    "        return 1\n",
    "    elif x == \"Japan\":\n",
    "        return 2\n",
    "    elif x == \"USA\":\n",
    "        return 3\n",
    "    else:\n",
    "        return 4\n",
    " "
   ]
  },
  {
   "cell_type": "code",
   "execution_count": 510,
   "id": "71dcbe0f",
   "metadata": {},
   "outputs": [
    {
     "name": "stdout",
     "output_type": "stream",
     "text": [
      " Agrupando los paises nuevamente se tiene: \n"
     ]
    },
    {
     "data": {
      "text/html": [
       "<div>\n",
       "<style scoped>\n",
       "    .dataframe tbody tr th:only-of-type {\n",
       "        vertical-align: middle;\n",
       "    }\n",
       "\n",
       "    .dataframe tbody tr th {\n",
       "        vertical-align: top;\n",
       "    }\n",
       "\n",
       "    .dataframe thead th {\n",
       "        text-align: right;\n",
       "    }\n",
       "</style>\n",
       "<table border=\"1\" class=\"dataframe\">\n",
       "  <thead>\n",
       "    <tr style=\"text-align: right;\">\n",
       "      <th></th>\n",
       "      <th>Millas_Por_Galon</th>\n",
       "      <th>Cilindros</th>\n",
       "      <th>Pais_Origen</th>\n",
       "      <th>Peso_En_Libras</th>\n",
       "      <th>Desplazamiento</th>\n",
       "      <th>Aceleracion</th>\n",
       "      <th>Nombre</th>\n",
       "      <th>Anyo</th>\n",
       "      <th>Caballo_De_Fuerza</th>\n",
       "      <th>Pais_Origen_Cod</th>\n",
       "      <th>Log10</th>\n",
       "    </tr>\n",
       "  </thead>\n",
       "  <tbody>\n",
       "    <tr>\n",
       "      <th>0</th>\n",
       "      <td>18.0</td>\n",
       "      <td>8</td>\n",
       "      <td>USA</td>\n",
       "      <td>3504</td>\n",
       "      <td>307.0</td>\n",
       "      <td>12.0</td>\n",
       "      <td>chevrolet chevelle malibu</td>\n",
       "      <td>1/01/1970</td>\n",
       "      <td>130.0</td>\n",
       "      <td>3</td>\n",
       "      <td>-1.231866</td>\n",
       "    </tr>\n",
       "    <tr>\n",
       "      <th>1</th>\n",
       "      <td>15.0</td>\n",
       "      <td>8</td>\n",
       "      <td>USA</td>\n",
       "      <td>3693</td>\n",
       "      <td>350.0</td>\n",
       "      <td>11.5</td>\n",
       "      <td>buick skylark 320</td>\n",
       "      <td>1/01/1970</td>\n",
       "      <td>165.0</td>\n",
       "      <td>3</td>\n",
       "      <td>-1.367977</td>\n",
       "    </tr>\n",
       "    <tr>\n",
       "      <th>2</th>\n",
       "      <td>18.0</td>\n",
       "      <td>8</td>\n",
       "      <td>USA</td>\n",
       "      <td>3436</td>\n",
       "      <td>318.0</td>\n",
       "      <td>11.0</td>\n",
       "      <td>plymouth satellite</td>\n",
       "      <td>1/01/1970</td>\n",
       "      <td>150.0</td>\n",
       "      <td>3</td>\n",
       "      <td>-1.247155</td>\n",
       "    </tr>\n",
       "    <tr>\n",
       "      <th>3</th>\n",
       "      <td>16.0</td>\n",
       "      <td>8</td>\n",
       "      <td>USA</td>\n",
       "      <td>3433</td>\n",
       "      <td>304.0</td>\n",
       "      <td>12.0</td>\n",
       "      <td>amc rebel sst</td>\n",
       "      <td>1/01/1970</td>\n",
       "      <td>150.0</td>\n",
       "      <td>3</td>\n",
       "      <td>-1.278754</td>\n",
       "    </tr>\n",
       "    <tr>\n",
       "      <th>4</th>\n",
       "      <td>17.0</td>\n",
       "      <td>8</td>\n",
       "      <td>USA</td>\n",
       "      <td>3449</td>\n",
       "      <td>302.0</td>\n",
       "      <td>10.5</td>\n",
       "      <td>ford torino</td>\n",
       "      <td>1/01/1970</td>\n",
       "      <td>140.0</td>\n",
       "      <td>3</td>\n",
       "      <td>-1.249558</td>\n",
       "    </tr>\n",
       "  </tbody>\n",
       "</table>\n",
       "</div>"
      ],
      "text/plain": [
       "   Millas_Por_Galon  Cilindros Pais_Origen  Peso_En_Libras  Desplazamiento  \\\n",
       "0              18.0          8         USA            3504           307.0   \n",
       "1              15.0          8         USA            3693           350.0   \n",
       "2              18.0          8         USA            3436           318.0   \n",
       "3              16.0          8         USA            3433           304.0   \n",
       "4              17.0          8         USA            3449           302.0   \n",
       "\n",
       "   Aceleracion                     Nombre       Anyo  Caballo_De_Fuerza  \\\n",
       "0         12.0  chevrolet chevelle malibu  1/01/1970              130.0   \n",
       "1         11.5          buick skylark 320  1/01/1970              165.0   \n",
       "2         11.0         plymouth satellite  1/01/1970              150.0   \n",
       "3         12.0              amc rebel sst  1/01/1970              150.0   \n",
       "4         10.5                ford torino  1/01/1970              140.0   \n",
       "\n",
       "   Pais_Origen_Cod     Log10  \n",
       "0                3 -1.231866  \n",
       "1                3 -1.367977  \n",
       "2                3 -1.247155  \n",
       "3                3 -1.278754  \n",
       "4                3 -1.249558  "
      ]
     },
     "execution_count": 510,
     "metadata": {},
     "output_type": "execute_result"
    }
   ],
   "source": [
    "#Reescribiendo la columna 'Pais_Origen_Cod'\n",
    "print(\" Agrupando los paises nuevamente se tiene: \")\n",
    "autos['Pais_Origen_Cod'] = autos['Pais_Origen'].apply(Cambiar_Pais)\n",
    "autos.head(5)"
   ]
  },
  {
   "cell_type": "code",
   "execution_count": 506,
   "id": "c1a2ace2",
   "metadata": {},
   "outputs": [
    {
     "data": {
      "text/plain": [
       "Pais_Origen_Cod\n",
       "1     73\n",
       "2     79\n",
       "3    254\n",
       "Name: Pais_Origen, dtype: int64"
      ]
     },
     "execution_count": 506,
     "metadata": {},
     "output_type": "execute_result"
    }
   ],
   "source": [
    "grupo = autos.groupby('Pais_Origen_Cod').count()\n",
    "grupo['Pais_Origen']"
   ]
  },
  {
   "cell_type": "markdown",
   "id": "69b5c2c6",
   "metadata": {},
   "source": [
    "## Ejercicio N°2\n",
    "Generar un Notebook Colab con código y resultados, que contiene información de autos de un periodo de tiempo. Resolver los\n",
    "siguientes:\n",
    "- Limpieza y tratamiento de las variables (Según corresponda)\n",
    "- Generar 5 nuevas variables aplicando los siguientes criterios con las variables numéricas:\n",
    "1. Log10(var1/var2)\n",
    "2. Sqrt(var1)*exp(var2)/200\n",
    "3. Si var 1 > var 2 → 5, caso contrario 3\n",
    "4. 1/logn(var1/var2)*100\n",
    "5. var2**2/var1\n",
    "\n",
    "### Solución \n",
    "#### Limpieza de datos\n",
    "Respecto a la limpieza de datos, se comenzará revisando qué tipos de datos tiene, luego ver cómo está compuesta la Base de Datos.\n"
   ]
  },
  {
   "cell_type": "code",
   "execution_count": 474,
   "id": "92c32f1e",
   "metadata": {},
   "outputs": [
    {
     "data": {
      "text/plain": [
       "Millas_Por_Galon     float64\n",
       "Cilindros              int64\n",
       "Pais_Origen           object\n",
       "Peso_En_Libras         int64\n",
       "Desplazamiento       float64\n",
       "Aceleracion          float64\n",
       "Nombre                object\n",
       "Anyo                  object\n",
       "Caballo_De_Fuerza    float64\n",
       "Pais_Origen_Cod        int64\n",
       "dtype: object"
      ]
     },
     "execution_count": 474,
     "metadata": {},
     "output_type": "execute_result"
    }
   ],
   "source": [
    "#Características de autos.csv\n",
    "autos.dtypes\n"
   ]
  },
  {
   "cell_type": "code",
   "execution_count": 475,
   "id": "e210ce09",
   "metadata": {},
   "outputs": [
    {
     "name": "stdout",
     "output_type": "stream",
     "text": [
      "Revisando si la base de datos contiene datos perdidos.\n"
     ]
    },
    {
     "data": {
      "text/plain": [
       "Millas_Por_Galon     8\n",
       "Cilindros            0\n",
       "Pais_Origen          0\n",
       "Peso_En_Libras       0\n",
       "Desplazamiento       0\n",
       "Aceleracion          0\n",
       "Nombre               0\n",
       "Anyo                 0\n",
       "Caballo_De_Fuerza    6\n",
       "Pais_Origen_Cod      0\n",
       "dtype: int64"
      ]
     },
     "execution_count": 475,
     "metadata": {},
     "output_type": "execute_result"
    }
   ],
   "source": [
    "#Datos null\n",
    "print (\"Revisando si la base de datos contiene datos perdidos.\")\n",
    "autos.isnull().sum()\n"
   ]
  },
  {
   "cell_type": "code",
   "execution_count": 476,
   "id": "fd23191d",
   "metadata": {},
   "outputs": [
    {
     "name": "stdout",
     "output_type": "stream",
     "text": [
      "La cantidad de datos perdidos es:\n"
     ]
    },
    {
     "data": {
      "text/plain": [
       "14"
      ]
     },
     "execution_count": 476,
     "metadata": {},
     "output_type": "execute_result"
    }
   ],
   "source": [
    "print(\"La cantidad de datos perdidos es:\")\n",
    "autos.isnull().sum().sum()"
   ]
  },
  {
   "cell_type": "code",
   "execution_count": 477,
   "id": "076e7180",
   "metadata": {},
   "outputs": [
    {
     "name": "stdout",
     "output_type": "stream",
     "text": [
      "Lo que corresponde a un porcentaje de:\n",
      "3.4483 %\n"
     ]
    }
   ],
   "source": [
    "print(\"Lo que corresponde a un porcentaje de:\")\n",
    "print(round(autos.isnull().sum().sum()/autos.shape[0]*100,4), \"%\")\n"
   ]
  },
  {
   "cell_type": "code",
   "execution_count": 478,
   "id": "316d5a3a",
   "metadata": {},
   "outputs": [
    {
     "name": "stdout",
     "output_type": "stream",
     "text": [
      "Identificando los registros que contienen algún dato faltante:\n",
      "     Millas_Por_Galon  Caballo_De_Fuerza\n",
      "10                NaN              115.0\n",
      "11                NaN              165.0\n",
      "12                NaN              153.0\n",
      "13                NaN              175.0\n",
      "14                NaN              175.0\n",
      "17                NaN              140.0\n",
      "38               25.0                NaN\n",
      "39                NaN               48.0\n",
      "133              21.0                NaN\n",
      "337              40.9                NaN\n",
      "343              23.6                NaN\n",
      "361              34.5                NaN\n",
      "367               NaN              110.0\n",
      "382              23.0                NaN\n"
     ]
    }
   ],
   "source": [
    "print(\"Identificando los registros que contienen algún dato faltante:\")\n",
    "filas_con_faltantes = autos[autos.isnull().any(axis=1)]\n",
    "print(filas_con_faltantes[['Millas_Por_Galon','Caballo_De_Fuerza']])\n"
   ]
  },
  {
   "cell_type": "markdown",
   "id": "45e3f84d",
   "metadata": {},
   "source": [
    "Para poder realizar la imputación de los datos, se utilizarán diversas técnicas para dar un mejor abanico de posibilidades. \n",
    "##### Imputación por mediana\n",
    "- Imputación por la mediana\n",
    "- Imputación Múltiple (MICE)\n",
    "- Imputación Basada en la vecindad (KNN)"
   ]
  },
  {
   "cell_type": "code",
   "execution_count": 479,
   "id": "79654570",
   "metadata": {},
   "outputs": [
    {
     "name": "stdout",
     "output_type": "stream",
     "text": [
      "La cantidad de datos faltantes es: 0\n"
     ]
    }
   ],
   "source": [
    "#Imputación por la mediana\n",
    "autos1 = autos.copy()\n",
    "autos1.fillna(autos1.median(), inplace=True)\n",
    "print(\"La cantidad de datos faltantes es:\", autos1.isnull().sum().sum())"
   ]
  },
  {
   "cell_type": "markdown",
   "id": "3161c962",
   "metadata": {},
   "source": [
    "##### Imputación Múltiple (Multiple Imputation)\n",
    "Para un enfoque más robusto, puedes utilizar MICE (Multiple Imputation by Chained Equations), disponible en bibliotecas como statsmodels o fancyimpute:\n",
    "\n"
   ]
  },
  {
   "cell_type": "code",
   "execution_count": 480,
   "id": "5bf95143",
   "metadata": {},
   "outputs": [
    {
     "data": {
      "text/html": [
       "<div>\n",
       "<style scoped>\n",
       "    .dataframe tbody tr th:only-of-type {\n",
       "        vertical-align: middle;\n",
       "    }\n",
       "\n",
       "    .dataframe tbody tr th {\n",
       "        vertical-align: top;\n",
       "    }\n",
       "\n",
       "    .dataframe thead th {\n",
       "        text-align: right;\n",
       "    }\n",
       "</style>\n",
       "<table border=\"1\" class=\"dataframe\">\n",
       "  <thead>\n",
       "    <tr style=\"text-align: right;\">\n",
       "      <th></th>\n",
       "      <th>Millas_Por_Galon</th>\n",
       "      <th>Cilindros</th>\n",
       "      <th>Pais_Origen</th>\n",
       "      <th>Peso_En_Libras</th>\n",
       "      <th>Desplazamiento</th>\n",
       "      <th>Aceleracion</th>\n",
       "      <th>Nombre</th>\n",
       "      <th>Anyo</th>\n",
       "      <th>Caballo_De_Fuerza</th>\n",
       "      <th>Pais_Origen_Cod</th>\n",
       "    </tr>\n",
       "  </thead>\n",
       "  <tbody>\n",
       "    <tr>\n",
       "      <th>0</th>\n",
       "      <td>18.0</td>\n",
       "      <td>8.0</td>\n",
       "      <td>USA</td>\n",
       "      <td>3504.0</td>\n",
       "      <td>307.0</td>\n",
       "      <td>12.0</td>\n",
       "      <td>chevrolet chevelle malibu</td>\n",
       "      <td>1/01/1970</td>\n",
       "      <td>130.0</td>\n",
       "      <td>3.0</td>\n",
       "    </tr>\n",
       "    <tr>\n",
       "      <th>1</th>\n",
       "      <td>15.0</td>\n",
       "      <td>8.0</td>\n",
       "      <td>USA</td>\n",
       "      <td>3693.0</td>\n",
       "      <td>350.0</td>\n",
       "      <td>11.5</td>\n",
       "      <td>buick skylark 320</td>\n",
       "      <td>1/01/1970</td>\n",
       "      <td>165.0</td>\n",
       "      <td>3.0</td>\n",
       "    </tr>\n",
       "    <tr>\n",
       "      <th>2</th>\n",
       "      <td>18.0</td>\n",
       "      <td>8.0</td>\n",
       "      <td>USA</td>\n",
       "      <td>3436.0</td>\n",
       "      <td>318.0</td>\n",
       "      <td>11.0</td>\n",
       "      <td>plymouth satellite</td>\n",
       "      <td>1/01/1970</td>\n",
       "      <td>150.0</td>\n",
       "      <td>3.0</td>\n",
       "    </tr>\n",
       "  </tbody>\n",
       "</table>\n",
       "</div>"
      ],
      "text/plain": [
       "   Millas_Por_Galon  Cilindros Pais_Origen  Peso_En_Libras  Desplazamiento  \\\n",
       "0              18.0        8.0         USA          3504.0           307.0   \n",
       "1              15.0        8.0         USA          3693.0           350.0   \n",
       "2              18.0        8.0         USA          3436.0           318.0   \n",
       "\n",
       "   Aceleracion                     Nombre       Anyo  Caballo_De_Fuerza  \\\n",
       "0         12.0  chevrolet chevelle malibu  1/01/1970              130.0   \n",
       "1         11.5          buick skylark 320  1/01/1970              165.0   \n",
       "2         11.0         plymouth satellite  1/01/1970              150.0   \n",
       "\n",
       "   Pais_Origen_Cod  \n",
       "0              3.0  \n",
       "1              3.0  \n",
       "2              3.0  "
      ]
     },
     "execution_count": 480,
     "metadata": {},
     "output_type": "execute_result"
    }
   ],
   "source": [
    "autos2 = autos.copy()\n",
    "from sklearn.experimental import enable_iterative_imputer\n",
    "from sklearn.impute import IterativeImputer\n",
    "\n",
    "#Crear un imputador iterativo (MICE)\n",
    "imputer = IterativeImputer(max_iter=10, random_state=0)\n",
    "\n",
    "# Seleccionar las columnas relevantes para la imputación\n",
    "columnas_para_imputar = ['Millas_Por_Galon', 'Cilindros', 'Peso_En_Libras', \n",
    "                         'Desplazamiento', 'Aceleracion', 'Caballo_De_Fuerza', \n",
    "                         'Pais_Origen_Cod']\n",
    "\n",
    "# Aplicar la imputación múltiple\n",
    "df_imputado = pd.DataFrame(imputer.fit_transform(autos2[columnas_para_imputar]), columns=columnas_para_imputar)\n",
    "\n",
    "# Restaurar las columnas originales no imputadas\n",
    "autos2[columnas_para_imputar] = df_imputado\n",
    "\n",
    "autos2.head(3)\n"
   ]
  },
  {
   "cell_type": "code",
   "execution_count": 481,
   "id": "995173a6",
   "metadata": {},
   "outputs": [
    {
     "name": "stdout",
     "output_type": "stream",
     "text": [
      "La cantidad de datos perdidos es:\n"
     ]
    },
    {
     "data": {
      "text/plain": [
       "0"
      ]
     },
     "execution_count": 481,
     "metadata": {},
     "output_type": "execute_result"
    }
   ],
   "source": [
    "print(\"La cantidad de datos perdidos es:\")\n",
    "autos2.isnull().sum().sum()"
   ]
  },
  {
   "cell_type": "markdown",
   "id": "5724dcda",
   "metadata": {},
   "source": [
    "##### Imputación Basada en Vecindad (K-Nearest Neighbors Imputation)\n",
    "Utiliza algoritmos como el k-vecinos más cercanos (KNN), que llenan los valores faltantes basándose en la similitud de otras filas.\n",
    "- Con scikit-learn:"
   ]
  },
  {
   "cell_type": "code",
   "execution_count": 482,
   "id": "5ab743a2",
   "metadata": {},
   "outputs": [
    {
     "data": {
      "text/html": [
       "<div>\n",
       "<style scoped>\n",
       "    .dataframe tbody tr th:only-of-type {\n",
       "        vertical-align: middle;\n",
       "    }\n",
       "\n",
       "    .dataframe tbody tr th {\n",
       "        vertical-align: top;\n",
       "    }\n",
       "\n",
       "    .dataframe thead th {\n",
       "        text-align: right;\n",
       "    }\n",
       "</style>\n",
       "<table border=\"1\" class=\"dataframe\">\n",
       "  <thead>\n",
       "    <tr style=\"text-align: right;\">\n",
       "      <th></th>\n",
       "      <th>Millas_Por_Galon</th>\n",
       "      <th>Cilindros</th>\n",
       "      <th>Pais_Origen</th>\n",
       "      <th>Peso_En_Libras</th>\n",
       "      <th>Desplazamiento</th>\n",
       "      <th>Aceleracion</th>\n",
       "      <th>Nombre</th>\n",
       "      <th>Anyo</th>\n",
       "      <th>Caballo_De_Fuerza</th>\n",
       "      <th>Pais_Origen_Cod</th>\n",
       "    </tr>\n",
       "  </thead>\n",
       "  <tbody>\n",
       "    <tr>\n",
       "      <th>0</th>\n",
       "      <td>18.0</td>\n",
       "      <td>8.0</td>\n",
       "      <td>USA</td>\n",
       "      <td>3504.0</td>\n",
       "      <td>307.0</td>\n",
       "      <td>12.0</td>\n",
       "      <td>chevrolet chevelle malibu</td>\n",
       "      <td>1/01/1970</td>\n",
       "      <td>130.0</td>\n",
       "      <td>3.0</td>\n",
       "    </tr>\n",
       "    <tr>\n",
       "      <th>1</th>\n",
       "      <td>15.0</td>\n",
       "      <td>8.0</td>\n",
       "      <td>USA</td>\n",
       "      <td>3693.0</td>\n",
       "      <td>350.0</td>\n",
       "      <td>11.5</td>\n",
       "      <td>buick skylark 320</td>\n",
       "      <td>1/01/1970</td>\n",
       "      <td>165.0</td>\n",
       "      <td>3.0</td>\n",
       "    </tr>\n",
       "    <tr>\n",
       "      <th>2</th>\n",
       "      <td>18.0</td>\n",
       "      <td>8.0</td>\n",
       "      <td>USA</td>\n",
       "      <td>3436.0</td>\n",
       "      <td>318.0</td>\n",
       "      <td>11.0</td>\n",
       "      <td>plymouth satellite</td>\n",
       "      <td>1/01/1970</td>\n",
       "      <td>150.0</td>\n",
       "      <td>3.0</td>\n",
       "    </tr>\n",
       "  </tbody>\n",
       "</table>\n",
       "</div>"
      ],
      "text/plain": [
       "   Millas_Por_Galon  Cilindros Pais_Origen  Peso_En_Libras  Desplazamiento  \\\n",
       "0              18.0        8.0         USA          3504.0           307.0   \n",
       "1              15.0        8.0         USA          3693.0           350.0   \n",
       "2              18.0        8.0         USA          3436.0           318.0   \n",
       "\n",
       "   Aceleracion                     Nombre       Anyo  Caballo_De_Fuerza  \\\n",
       "0         12.0  chevrolet chevelle malibu  1/01/1970              130.0   \n",
       "1         11.5          buick skylark 320  1/01/1970              165.0   \n",
       "2         11.0         plymouth satellite  1/01/1970              150.0   \n",
       "\n",
       "   Pais_Origen_Cod  \n",
       "0              3.0  \n",
       "1              3.0  \n",
       "2              3.0  "
      ]
     },
     "execution_count": 482,
     "metadata": {},
     "output_type": "execute_result"
    }
   ],
   "source": [
    "from sklearn.impute import KNNImputer\n",
    "import pandas as pd\n",
    "\n",
    "autos3 = autos.copy()\n",
    "\n",
    "imputer = KNNImputer(n_neighbors=7)  # Considera 7 vecinos\n",
    "# Seleccionar las columnas relevantes para la imputación\n",
    "columnas_para_imputar = ['Millas_Por_Galon', 'Cilindros', 'Peso_En_Libras', \n",
    "                         'Desplazamiento', 'Aceleracion', 'Caballo_De_Fuerza', \n",
    "                         'Pais_Origen_Cod']\n",
    "\n",
    "df_imputado = pd.DataFrame(imputer.fit_transform(autos3[columnas_para_imputar]), columns=columnas_para_imputar)\n",
    "# Restaurar las columnas originales no imputadas\n",
    "autos3[columnas_para_imputar] = df_imputado\n",
    "\n",
    "autos3.head(3)\n"
   ]
  },
  {
   "cell_type": "code",
   "execution_count": 483,
   "id": "136850b9",
   "metadata": {},
   "outputs": [
    {
     "name": "stdout",
     "output_type": "stream",
     "text": [
      "La cantidad de datos perdidos es:\n"
     ]
    },
    {
     "data": {
      "text/plain": [
       "0"
      ]
     },
     "execution_count": 483,
     "metadata": {},
     "output_type": "execute_result"
    }
   ],
   "source": [
    "print(\"La cantidad de datos perdidos es:\")\n",
    "autos3.isnull().sum().sum()"
   ]
  },
  {
   "cell_type": "markdown",
   "id": "ac0cb3f8",
   "metadata": {},
   "source": [
    "#### Generar 5 nuevas variables aplicando los siguientes criterios con las variables numéricas:\n",
    "Se utilizarán las 3 bases de datos imputadas y posteriormente se generará una sumatoria para los campos de `Millas_Por_Galón` para comparar los resultados.\n",
    "Las variables a considerar serán `Desplazamiento`, `Millas_Por_Galón`\n",
    "##### Operatoria matemática 1\n",
    "$ {\\log_{10}*(\\frac{var1}{var2}}) $"
   ]
  },
  {
   "cell_type": "code",
   "execution_count": 484,
   "id": "ed04ff08",
   "metadata": {},
   "outputs": [
    {
     "name": "stdout",
     "output_type": "stream",
     "text": [
      "Suma de auto[Log10] -349.4647\n"
     ]
    }
   ],
   "source": [
    "var1 = \"Millas_Por_Galon\"\n",
    "var2 = \"Desplazamiento\"\n",
    "\n",
    "def cal_log(x: float, y: float, TypeCal: bool = False) -> float:\n",
    "      \n",
    "    log = np.log10(x/y)\n",
    "    return log\n",
    "\n",
    "#BBDD autos\n",
    "\n",
    "autos['Log10'] = cal_log(x = autos[var1], \n",
    "                         y = autos[var2],\n",
    "                         TypeCal = True)\n",
    "print(\"Suma de auto[Log10]\", round(autos['Log10'].sum(),4))"
   ]
  },
  {
   "cell_type": "code",
   "execution_count": 485,
   "id": "9eb7e0ac",
   "metadata": {},
   "outputs": [
    {
     "name": "stdout",
     "output_type": "stream",
     "text": [
      "Imputación por mediana\n",
      "Suma de auto1[Log10] -357.4732\n"
     ]
    }
   ],
   "source": [
    "#BBDD autos1\n",
    "\n",
    "autos1['Log10'] = cal_log(x = autos1[var1], \n",
    "                         y = autos1[var2],\n",
    "                         TypeCal = True)\n",
    "print(\"Imputación por mediana\")\n",
    "print(\"Suma de auto1[Log10]\", round(autos1['Log10'].sum(),4))"
   ]
  },
  {
   "cell_type": "code",
   "execution_count": 486,
   "id": "5acfaf83",
   "metadata": {},
   "outputs": [
    {
     "name": "stdout",
     "output_type": "stream",
     "text": [
      "Imputación por MUCI\n",
      "Suma de auto2[Log10] -358.2038\n"
     ]
    }
   ],
   "source": [
    "#BBDD autos2\n",
    "\n",
    "autos2['Log10'] = cal_log(x = autos2[var1], \n",
    "                         y = autos2[var2],\n",
    "                         TypeCal = True)\n",
    "print(\"Imputación por MUCI\")\n",
    "print(\"Suma de auto2[Log10]\", round(autos2['Log10'].sum(),4))"
   ]
  },
  {
   "cell_type": "code",
   "execution_count": 487,
   "id": "37e7385b",
   "metadata": {},
   "outputs": [
    {
     "name": "stdout",
     "output_type": "stream",
     "text": [
      "Imputación por KNN\n",
      "Suma de auto3[Log10] -358.1207\n"
     ]
    }
   ],
   "source": [
    "#BBDD autos3\n",
    "\n",
    "autos3['Log10'] = cal_log(x = autos3[var1], \n",
    "                         y = autos3[var2],\n",
    "                         TypeCal = True)\n",
    "print(\"Imputación por KNN\")\n",
    "print(\"Suma de auto3[Log10]\", round(autos3['Log10'].sum(),4))"
   ]
  },
  {
   "cell_type": "code",
   "execution_count": 511,
   "id": "27b2d3b0",
   "metadata": {},
   "outputs": [
    {
     "data": {
      "text/html": [
       "<div>\n",
       "<style scoped>\n",
       "    .dataframe tbody tr th:only-of-type {\n",
       "        vertical-align: middle;\n",
       "    }\n",
       "\n",
       "    .dataframe tbody tr th {\n",
       "        vertical-align: top;\n",
       "    }\n",
       "\n",
       "    .dataframe thead th {\n",
       "        text-align: right;\n",
       "    }\n",
       "</style>\n",
       "<table border=\"1\" class=\"dataframe\">\n",
       "  <thead>\n",
       "    <tr style=\"text-align: right;\">\n",
       "      <th></th>\n",
       "      <th>BBDD</th>\n",
       "      <th>log10</th>\n",
       "      <th>Modelo</th>\n",
       "    </tr>\n",
       "  </thead>\n",
       "  <tbody>\n",
       "    <tr>\n",
       "      <th>0</th>\n",
       "      <td>auto</td>\n",
       "      <td>-349.4647</td>\n",
       "      <td>Sin imputación</td>\n",
       "    </tr>\n",
       "    <tr>\n",
       "      <th>1</th>\n",
       "      <td>auto1</td>\n",
       "      <td>-357.4732</td>\n",
       "      <td>Mediana</td>\n",
       "    </tr>\n",
       "    <tr>\n",
       "      <th>2</th>\n",
       "      <td>auto2</td>\n",
       "      <td>-358.2038</td>\n",
       "      <td>MUCI</td>\n",
       "    </tr>\n",
       "    <tr>\n",
       "      <th>3</th>\n",
       "      <td>auto3</td>\n",
       "      <td>-358.1207</td>\n",
       "      <td>KNN</td>\n",
       "    </tr>\n",
       "  </tbody>\n",
       "</table>\n",
       "</div>"
      ],
      "text/plain": [
       "    BBDD     log10          Modelo\n",
       "0   auto -349.4647  Sin imputación\n",
       "1  auto1 -357.4732         Mediana\n",
       "2  auto2 -358.2038            MUCI\n",
       "3  auto3 -358.1207             KNN"
      ]
     },
     "execution_count": 511,
     "metadata": {},
     "output_type": "execute_result"
    }
   ],
   "source": [
    "resumen = pd.DataFrame({'BBDD' : ['auto','auto1','auto2','auto3'],\n",
    "                       'log10' : [round(autos['Log10'].sum(),4), round(autos1['Log10'].sum(),4),\n",
    "                       round(autos2['Log10'].sum(),4), round(autos3['Log10'].sum(),4)],\n",
    "                       'Modelo' : ['Sin imputación', 'Mediana', 'MUCI', 'KNN']})\n",
    "\n",
    "resumen"
   ]
  },
  {
   "cell_type": "markdown",
   "id": "8cb47096",
   "metadata": {},
   "source": [
    "##### Operatoria matemática 2\n",
    "$ \\frac{\\sqrt{var1}*e^{var2}}{200} $  \n",
    "\n",
    "Para el siguiente ejercicio, se tomará como modelo de imputación el MICI, así que se utilizará la base de datos *auto2*"
   ]
  },
  {
   "cell_type": "code",
   "execution_count": 489,
   "id": "a221e96e",
   "metadata": {},
   "outputs": [],
   "source": [
    "#Definiciendo la función\n",
    "def raizcuad (x : float, y : float, TypeCal : bool = False) -> float:\n",
    "    '''\n",
    "    Función para la raíz cuadrada de una variable y multiplicarla por e elevado a la segunda variable y \n",
    "    dividirla por una constante (200)\n",
    "\n",
    "    '''\n",
    "    rc = np.sqrt(x) * np.exp(y) / 200\n",
    "    return round(rc,4)\n"
   ]
  },
  {
   "cell_type": "code",
   "execution_count": 490,
   "id": "1e36abf6",
   "metadata": {},
   "outputs": [
    {
     "data": {
      "text/plain": [
       "0      4.518686e+131\n",
       "1      1.950223e+150\n",
       "2      2.705525e+136\n",
       "3      2.121058e+130\n",
       "4      2.958884e+129\n",
       "           ...      \n",
       "401     1.643915e+59\n",
       "402     4.438754e+40\n",
       "403     1.205869e+57\n",
       "404     3.450538e+50\n",
       "405     1.335655e+50\n",
       "Length: 406, dtype: float64"
      ]
     },
     "execution_count": 490,
     "metadata": {},
     "output_type": "execute_result"
    }
   ],
   "source": [
    "raizcuad(x = autos2[var1], \n",
    "         y = autos2[var2],\n",
    "         TypeCal = True)"
   ]
  },
  {
   "cell_type": "markdown",
   "id": "7b61b614",
   "metadata": {},
   "source": [
    "##### Operatoria matemática 3\n",
    "Si var 1 > var 2 → 5, caso contrario 3"
   ]
  },
  {
   "cell_type": "code",
   "execution_count": 491,
   "id": "ae4a779b",
   "metadata": {},
   "outputs": [],
   "source": [
    "def comparacion (x : float,\n",
    "                y : float,\n",
    "                TypeCal: bool = False)-> int:\n",
    "    condiciones = [x > y, x <= y]\n",
    "    opciones = [5,3]\n",
    "    resultado = np.select(condiciones, opciones)\n",
    "    return resultado"
   ]
  },
  {
   "cell_type": "code",
   "execution_count": 492,
   "id": "af72293e",
   "metadata": {},
   "outputs": [
    {
     "data": {
      "text/html": [
       "<div>\n",
       "<style scoped>\n",
       "    .dataframe tbody tr th:only-of-type {\n",
       "        vertical-align: middle;\n",
       "    }\n",
       "\n",
       "    .dataframe tbody tr th {\n",
       "        vertical-align: top;\n",
       "    }\n",
       "\n",
       "    .dataframe thead th {\n",
       "        text-align: right;\n",
       "    }\n",
       "</style>\n",
       "<table border=\"1\" class=\"dataframe\">\n",
       "  <thead>\n",
       "    <tr style=\"text-align: right;\">\n",
       "      <th></th>\n",
       "      <th>Millas_Por_Galon</th>\n",
       "      <th>Desplazamiento</th>\n",
       "      <th>Compara</th>\n",
       "    </tr>\n",
       "  </thead>\n",
       "  <tbody>\n",
       "    <tr>\n",
       "      <th>0</th>\n",
       "      <td>18.0</td>\n",
       "      <td>307.0</td>\n",
       "      <td>3</td>\n",
       "    </tr>\n",
       "    <tr>\n",
       "      <th>1</th>\n",
       "      <td>15.0</td>\n",
       "      <td>350.0</td>\n",
       "      <td>3</td>\n",
       "    </tr>\n",
       "    <tr>\n",
       "      <th>2</th>\n",
       "      <td>18.0</td>\n",
       "      <td>318.0</td>\n",
       "      <td>3</td>\n",
       "    </tr>\n",
       "    <tr>\n",
       "      <th>3</th>\n",
       "      <td>16.0</td>\n",
       "      <td>304.0</td>\n",
       "      <td>3</td>\n",
       "    </tr>\n",
       "    <tr>\n",
       "      <th>4</th>\n",
       "      <td>17.0</td>\n",
       "      <td>302.0</td>\n",
       "      <td>3</td>\n",
       "    </tr>\n",
       "    <tr>\n",
       "      <th>...</th>\n",
       "      <td>...</td>\n",
       "      <td>...</td>\n",
       "      <td>...</td>\n",
       "    </tr>\n",
       "    <tr>\n",
       "      <th>401</th>\n",
       "      <td>27.0</td>\n",
       "      <td>140.0</td>\n",
       "      <td>3</td>\n",
       "    </tr>\n",
       "    <tr>\n",
       "      <th>402</th>\n",
       "      <td>44.0</td>\n",
       "      <td>97.0</td>\n",
       "      <td>3</td>\n",
       "    </tr>\n",
       "    <tr>\n",
       "      <th>403</th>\n",
       "      <td>32.0</td>\n",
       "      <td>135.0</td>\n",
       "      <td>3</td>\n",
       "    </tr>\n",
       "    <tr>\n",
       "      <th>404</th>\n",
       "      <td>28.0</td>\n",
       "      <td>120.0</td>\n",
       "      <td>3</td>\n",
       "    </tr>\n",
       "    <tr>\n",
       "      <th>405</th>\n",
       "      <td>31.0</td>\n",
       "      <td>119.0</td>\n",
       "      <td>3</td>\n",
       "    </tr>\n",
       "  </tbody>\n",
       "</table>\n",
       "<p>406 rows × 3 columns</p>\n",
       "</div>"
      ],
      "text/plain": [
       "     Millas_Por_Galon  Desplazamiento  Compara\n",
       "0                18.0           307.0        3\n",
       "1                15.0           350.0        3\n",
       "2                18.0           318.0        3\n",
       "3                16.0           304.0        3\n",
       "4                17.0           302.0        3\n",
       "..                ...             ...      ...\n",
       "401              27.0           140.0        3\n",
       "402              44.0            97.0        3\n",
       "403              32.0           135.0        3\n",
       "404              28.0           120.0        3\n",
       "405              31.0           119.0        3\n",
       "\n",
       "[406 rows x 3 columns]"
      ]
     },
     "execution_count": 492,
     "metadata": {},
     "output_type": "execute_result"
    }
   ],
   "source": [
    "autos2['Compara'] = comparacion(autos2[var1], autos2[var2], TypeCal = True)\n",
    "autos2[['Millas_Por_Galon','Desplazamiento','Compara']]"
   ]
  },
  {
   "cell_type": "markdown",
   "id": "db1f3ba3",
   "metadata": {},
   "source": [
    "##### Operatoria matemática 4\n",
    "$\\frac{1}{log(\\frac{var_1}{var_2})}*100$"
   ]
  },
  {
   "cell_type": "code",
   "execution_count": 493,
   "id": "69766dd2",
   "metadata": {},
   "outputs": [],
   "source": [
    "def divilog (x : float,\n",
    "                y : float,\n",
    "                TypeCal: bool = False)-> int:\n",
    "         return  round(x/(np.log10(x/y))*100,4)\n",
    "        "
   ]
  },
  {
   "cell_type": "code",
   "execution_count": 494,
   "id": "bb4953b4",
   "metadata": {},
   "outputs": [
    {
     "name": "stdout",
     "output_type": "stream",
     "text": [
      "La operatoria matemática solicitada, para las dos variables, queda: \n"
     ]
    },
    {
     "data": {
      "text/plain": [
       "0      -1461.1980\n",
       "1      -1096.5098\n",
       "2      -1443.2854\n",
       "3      -1251.2184\n",
       "4      -1360.4810\n",
       "          ...    \n",
       "401    -3777.4692\n",
       "402   -12816.0669\n",
       "403    -5118.4948\n",
       "404    -4430.2170\n",
       "405    -5306.5357\n",
       "Length: 406, dtype: float64"
      ]
     },
     "execution_count": 494,
     "metadata": {},
     "output_type": "execute_result"
    }
   ],
   "source": [
    "print(\"La operatoria matemática solicitada, para las dos variables, queda: \") \n",
    "divilog(autos2[var1], autos2[var2], TypeCal=True)"
   ]
  },
  {
   "cell_type": "markdown",
   "id": "43bdc91b",
   "metadata": {},
   "source": [
    "##### Operatoria matemática 5\n",
    "$\\frac{(var2^2)}{var1}$"
   ]
  },
  {
   "cell_type": "code",
   "execution_count": 495,
   "id": "c976b2d0",
   "metadata": {},
   "outputs": [],
   "source": [
    "def div_variables (x : float,\n",
    "                y : float,\n",
    "                TypeCal: bool = False)-> float:\n",
    "    return (y**2)/x"
   ]
  },
  {
   "cell_type": "code",
   "execution_count": 496,
   "id": "80a88ee5",
   "metadata": {},
   "outputs": [
    {
     "name": "stdout",
     "output_type": "stream",
     "text": [
      "La operatoria matemática entre las dos variables queda:\n"
     ]
    },
    {
     "data": {
      "text/plain": [
       "0      5236.055556\n",
       "1      8166.666667\n",
       "2      5618.000000\n",
       "3      5776.000000\n",
       "4      5364.941176\n",
       "          ...     \n",
       "401     725.925926\n",
       "402     213.840909\n",
       "403     569.531250\n",
       "404     514.285714\n",
       "405     456.806452\n",
       "Length: 406, dtype: float64"
      ]
     },
     "execution_count": 496,
     "metadata": {},
     "output_type": "execute_result"
    }
   ],
   "source": [
    "print (\"La operatoria matemática entre las dos variables queda:\")\n",
    "div_variables(autos2[var1], autos2[var2], TypeCal = True)"
   ]
  },
  {
   "cell_type": "markdown",
   "id": "7b5ba8e7",
   "metadata": {},
   "source": [
    "## Ejercicio N°3\n",
    "Crear una función que permita generar 3 variables cualitativas ordinales a partir de las variables numéricas con\n",
    "los siguientes criterios:  \n",
    "\n",
    "★ Si es mayor a la “media + 1*desviación estándar”\n",
    "→ Alto  \n",
    "★ Si está entre “media - 1*desviación estándar” y\n",
    "“media + 1*desviación estándar” → Medio  \n",
    "★ Si es menor a la “media - 1*desviación estándar”\n",
    "→ Bajo  \n",
    "\n",
    "Nota: Mostrar con las nuevas variables generadas.\n",
    "Elegir con libertad las variables a trabajar.\n",
    "La función debe contar con su respectiva documentación.\n",
    "\n",
    "### Solución"
   ]
  },
  {
   "cell_type": "code",
   "execution_count": 497,
   "id": "86379008",
   "metadata": {},
   "outputs": [],
   "source": [
    "\"\"\"\n",
    "La función contampla 4 parámetros de ingresos\n",
    "Vector a analizar\n",
    "media del vector\n",
    "Desviación estándar del vector\n",
    "Boleando True\n",
    "\n",
    "\"\"\"\n",
    "def categoriza (x : float,\n",
    "                md :float,\n",
    "                sd :float,\n",
    "                TypeCal : bool = False) -> float:\n",
    "    \n",
    "    condiciones=[\n",
    "                x > (md + sd),\n",
    "       ((x <= (md + sd)) & (x >= (md - sd))),\n",
    "       x < (md - sd)\n",
    "                ]\n",
    "    \n",
    "    objetivo= [\"Alto\", \"Medio\", \"Bajo\"]\n",
    "    \n",
    "    resultado = np.select(condiciones, objetivo)\n",
    "     \n",
    "    return resultado\n",
    "    "
   ]
  },
  {
   "cell_type": "code",
   "execution_count": 498,
   "id": "8dd2970a",
   "metadata": {},
   "outputs": [
    {
     "name": "stdout",
     "output_type": "stream",
     "text": [
      "Evaluando la función creada:\n"
     ]
    },
    {
     "data": {
      "text/plain": [
       "0      Medio\n",
       "1       Bajo\n",
       "2      Medio\n",
       "3      Medio\n",
       "4      Medio\n",
       "       ...  \n",
       "401    Medio\n",
       "402     Alto\n",
       "403     Alto\n",
       "404    Medio\n",
       "405    Medio\n",
       "Length: 406, dtype: object"
      ]
     },
     "execution_count": 498,
     "metadata": {},
     "output_type": "execute_result"
    }
   ],
   "source": [
    "print(\"Evaluando la función creada:\")\n",
    "Categorizacion = categoriza(x = autos2[var1],\n",
    "                            md = autos2[var1].mean(),\n",
    "                            sd = autos2[var1].std(),\n",
    "                            TypeCal=True)\n",
    "Categorizacion = pd.Series(Categorizacion)\n",
    "Categorizacion\n"
   ]
  },
  {
   "cell_type": "markdown",
   "id": "fad0d924",
   "metadata": {},
   "source": [
    "## Ejercicio N°4\n",
    "Crear una función que muestre los siguientes gráficos (simultáneamente) para las variables numéricas, según una variable cualitativa:  \n",
    "- Cajas y bigotes  \n",
    "- Barras de la media  \n",
    "- Histograma con Curva  \n",
    "\n",
    "La función debe contar con su respectiva documentación.\n",
    "### Solución\n",
    "El presente ejercicio será resuelto utilizando la librería `matplotib.pyplot` que permite generar una gráfica múltiple. En este caso, se realizarán 4 gráficas en el mismo elemento a fin de facilitar la lectura de los datos."
   ]
  },
  {
   "cell_type": "code",
   "execution_count": 499,
   "id": "56cce70b",
   "metadata": {},
   "outputs": [],
   "source": [
    "#Importando las librerías\n",
    "def graficar(x:float, y:float):\n",
    "    \"\"\"\n",
    "    Función que permite graficar una variable cualitativa en un panel de 2x2\n",
    "    x: variable cualitativa\n",
    "    y: variable cuantitativa\n",
    "    \"\"\"\n",
    "    import seaborn as sns\n",
    "    import matplotlib.pyplot as plt\n",
    "    _, axes = plt.subplots(nrows=2, ncols=2, figsize=(12, 6)) # 1 Fila [0]\n",
    "    \n",
    "    sns.boxplot(x,\n",
    "                y,\n",
    "                ax = axes[0,0],\n",
    "               palette='pastel') #En Cuadrante 2\n",
    "    \n",
    "    sns.barplot(x, \n",
    "                y,\n",
    "                estimator=np.mean,\n",
    "               palette='pastel',\n",
    "                ax=axes[0,1])#En Cuadrante 1\n",
    "    \n",
    "    sns.histplot (y,\n",
    "                 ax=axes[1,0],\n",
    "               palette='pastel',\n",
    "                 kde=True) #Grafica una función de densidad #En Cuadrante 3\n",
    "    \n",
    "    sns.violinplot(x,    #Se aprovecha el cuardo cuadrante para incorporar un gráfico de violín y \n",
    "                         #así evitar que no quede un espacio vacío\n",
    "                y,\n",
    "                palette='pastel',\n",
    "                ax=axes[1,1])#En Cuadrante 4)\n",
    "    \n"
   ]
  },
  {
   "cell_type": "code",
   "execution_count": 500,
   "id": "3115a46a",
   "metadata": {},
   "outputs": [
    {
     "name": "stderr",
     "output_type": "stream",
     "text": [
      "C:\\Users\\osval\\anaconda3\\lib\\site-packages\\seaborn\\_decorators.py:36: FutureWarning: Pass the following variables as keyword args: x, y. From version 0.12, the only valid positional argument will be `data`, and passing other arguments without an explicit keyword will result in an error or misinterpretation.\n",
      "  warnings.warn(\n",
      "C:\\Users\\osval\\anaconda3\\lib\\site-packages\\seaborn\\_decorators.py:36: FutureWarning: Pass the following variables as keyword args: x, y. From version 0.12, the only valid positional argument will be `data`, and passing other arguments without an explicit keyword will result in an error or misinterpretation.\n",
      "  warnings.warn(\n",
      "C:\\Users\\osval\\anaconda3\\lib\\site-packages\\seaborn\\_decorators.py:36: FutureWarning: Pass the following variables as keyword args: x, y. From version 0.12, the only valid positional argument will be `data`, and passing other arguments without an explicit keyword will result in an error or misinterpretation.\n",
      "  warnings.warn(\n"
     ]
    },
    {
     "data": {
      "image/png": "[encoded data removed]",
      "text/plain": [
       "<Figure size 864x432 with 4 Axes>"
      ]
     },
     "metadata": {
      "needs_background": "light"
     },
     "output_type": "display_data"
    }
   ],
   "source": [
    "graficar(x = autos2['Pais_Origen'], y = autos2['Millas_Por_Galon'])"
   ]
  },
  {
   "cell_type": "markdown",
   "id": "fff496d6",
   "metadata": {},
   "source": [
    "## Ejercicio N°5\n",
    "Crear una función que devuelva un mapa de calor con la correlación de todas las variables numéricas (incluye las generadas), para cada país.\n",
    "La función debe contar con su respectiva documentación.\n",
    "### Solución\n",
    "Usando la librería `seaborn`, se podrá realizar un mapa de calor de las correlaciones entre las variables"
   ]
  },
  {
   "cell_type": "code",
   "execution_count": 501,
   "id": "2adf68c2",
   "metadata": {},
   "outputs": [],
   "source": [
    "def mapa_calor (x):\n",
    "    import seaborn as sns\n",
    "    \"\"\"\n",
    "    \n",
    "    \"\"\"\n",
    "    sns.heatmap(x,\n",
    "    xticklabels = x.columns.values,\n",
    "    yticklabels = x.columns.values,\n",
    "    annot = True,\n",
    "    cmap = \"Blues\" # viridis, Blues\n",
    "    );"
   ]
  },
  {
   "cell_type": "code",
   "execution_count": 502,
   "id": "6c4d1d91",
   "metadata": {},
   "outputs": [
    {
     "data": {
      "image/png": "[encoded data removed]",
      "text/plain": [
       "<Figure size 432x288 with 2 Axes>"
      ]
     },
     "metadata": {
      "needs_background": "light"
     },
     "output_type": "display_data"
    }
   ],
   "source": [
    "mapa_calor(autos2.corr())"
   ]
  },
  {
   "cell_type": "code",
   "execution_count": 503,
   "id": "eae2c42e",
   "metadata": {},
   "outputs": [
    {
     "data": {
      "image/png": "[encoded data removed]",
      "text/plain": [
       "<Figure size 432x288 with 2 Axes>"
      ]
     },
     "metadata": {
      "needs_background": "light"
     },
     "output_type": "display_data"
    }
   ],
   "source": [
    "mapa_calor(autos3.corr())"
   ]
  },
  {
   "cell_type": "markdown",
   "id": "79b6385a",
   "metadata": {},
   "source": [
    "Documento elaborado por Osvaldo Cubillos."
   ]
  },
  {
   "cell_type": "code",
   "execution_count": null,
   "id": "be277851",
   "metadata": {},
   "outputs": [],
   "source": []
  }
 ],
 "metadata": {
  "hide_input": false,
  "kernelspec": {
   "display_name": "Python 3",
   "language": "python",
   "name": "python3"
  },
  "language_info": {
   "codemirror_mode": {
    "name": "ipython",
    "version": 3
   },
   "file_extension": ".py",
   "mimetype": "text/x-python",
   "name": "python",
   "nbconvert_exporter": "python",
   "pygments_lexer": "ipython3",
   "version": "3.8.8"
  },
  "nbTranslate": {
   "displayLangs": [
    "auto"
   ],
   "hotkey": "alt-t",
   "langInMainMenu": true,
   "sourceLang": "es",
   "targetLang": "auto",
   "useGoogleTranslate": true
  },
  "toc": {
   "base_numbering": 1,
   "nav_menu": {},
   "number_sections": true,
   "sideBar": true,
   "skip_h1_title": true,
   "title_cell": "Table of Contents",
   "title_sidebar": "Contents",
   "toc_cell": false,
   "toc_position": {
    "height": "calc(100% - 180px)",
    "left": "10px",
    "top": "150px",
    "width": "283.875px"
   },
   "toc_section_display": true,
   "toc_window_display": true
  },
  "varInspector": {
   "cols": {
    "lenName": 16,
    "lenType": 16,
    "lenVar": 40
   },
   "kernels_config": {
    "python": {
     "delete_cmd_postfix": "",
     "delete_cmd_prefix": "del ",
     "library": "var_list.py",
     "varRefreshCmd": "print(var_dic_list())"
    },
    "r": {
     "delete_cmd_postfix": ") ",
     "delete_cmd_prefix": "rm(",
     "library": "var_list.r",
     "varRefreshCmd": "cat(var_dic_list()) "
    }
   },
   "types_to_exclude": [
    "module",
    "function",
    "builtin_function_or_method",
    "instance",
    "_Feature"
   ],
   "window_display": false
  }
 },
 "nbformat": 4,
 "nbformat_minor": 5
}
